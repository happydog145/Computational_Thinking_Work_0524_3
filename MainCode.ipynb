{
 "cells": [
  {
   "cell_type": "code",
   "execution_count": null,
   "id": "2a479364",
   "metadata": {},
   "outputs": [],
   "source": [
    "def div(a,b):\n",
    "    try:\n",
    "        return a/b\n",
    "    except:\n",
    "        print('please check your input')"
   ]
  },
  {
   "cell_type": "markdown",
   "id": "46db6509",
   "metadata": {},
   "source": [
    "# 예외처리"
   ]
  },
  {
   "cell_type": "code",
   "execution_count": null,
   "id": "f79d970f",
   "metadata": {},
   "outputs": [],
   "source": [
    "while True:\n",
    "    try:\n",
    "        a=int(input(\"Enter first number: \"))\n",
    "        b=int(input(\"Enter second number: \"))\n",
    "    except:\n",
    "        print('try again')\n",
    "        continue\n",
    "    print(div(a,b))"
   ]
  },
  {
   "cell_type": "markdown",
   "id": "efce236e",
   "metadata": {},
   "source": [
    "## 정수가 아닌 문자열 입력 시 발생하는 오류를 처리함"
   ]
  }
 ],
 "metadata": {
  "kernelspec": {
   "display_name": "Python 3 (ipykernel)",
   "language": "python",
   "name": "python3"
  },
  "language_info": {
   "codemirror_mode": {
    "name": "ipython",
    "version": 3
   },
   "file_extension": ".py",
   "mimetype": "text/x-python",
   "name": "python",
   "nbconvert_exporter": "python",
   "pygments_lexer": "ipython3",
   "version": "3.9.12"
  }
 },
 "nbformat": 4,
 "nbformat_minor": 5
}
