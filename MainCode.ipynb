{
 "cells": [
  {
   "cell_type": "code",
   "execution_count": null,
   "id": "030751da",
   "metadata": {},
   "outputs": [],
   "source": [
    "def add(a,b):\n",
    "    try:\n",
    "        return a+b\n",
    "    except:\n",
    "        print('please check your input')\n",
    "def sub(a,b):\n",
    "    try:\n",
    "        return a-b\n",
    "    except:\n",
    "        print('please check your input')\n",
    "def mul(a,b):\n",
    "    try:\n",
    "        return a*b\n",
    "    except:\n",
    "        print('please check your input')\n",
    "def div(a,b):\n",
    "    try:\n",
    "        return a/b\n",
    "    except:\n",
    "        print('please check your input')"
   ]
  },
  {
   "cell_type": "markdown",
   "id": "911c8b91",
   "metadata": {},
   "source": [
    "# 덧셈, 뺄셈, 곱셈, 나눗셈을 각각 예외처리"
   ]
  },
  {
   "cell_type": "code",
   "execution_count": null,
   "id": "4f6e6c99",
   "metadata": {},
   "outputs": [],
   "source": [
    "while True:\n",
    "    try:\n",
    "        a=int(input(\"Enter first number: \"))\n",
    "        b=int(input(\"Enter second number: \"))\n",
    "        c=int(input(\"Enter your choice: \"))\n",
    "    except:\n",
    "        print('try again')\n",
    "        continue"
   ]
  },
  {
   "cell_type": "markdown",
   "id": "19aa523f",
   "metadata": {},
   "source": [
    "## 정수가 아닌 문자열 입력 시 발생하는 오류를 처리함"
   ]
  },
  {
   "cell_type": "code",
   "execution_count": null,
   "id": "901637c6",
   "metadata": {},
   "outputs": [],
   "source": [
    "    if c==0:\n",
    "        break\n",
    "    elif c==1:\n",
    "        print(add(a,b))\n",
    "    elif c==2:\n",
    "        print(sub(a,b))\n",
    "    elif c==3:\n",
    "        print(mul(a,b))\n",
    "    elif c==4:\n",
    "        print(div(a,b))"
   ]
  },
  {
   "cell_type": "markdown",
   "id": "b90c5545",
   "metadata": {},
   "source": [
    "### c의 값에 따른 연산 선택"
   ]
  }
 ],
 "metadata": {
  "kernelspec": {
   "display_name": "Python 3 (ipykernel)",
   "language": "python",
   "name": "python3"
  },
  "language_info": {
   "codemirror_mode": {
    "name": "ipython",
    "version": 3
   },
   "file_extension": ".py",
   "mimetype": "text/x-python",
   "name": "python",
   "nbconvert_exporter": "python",
   "pygments_lexer": "ipython3",
   "version": "3.9.12"
  }
 },
 "nbformat": 4,
 "nbformat_minor": 5
}
